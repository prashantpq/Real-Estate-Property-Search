{
 "cells": [
  {
   "cell_type": "code",
   "execution_count": null,
   "metadata": {},
   "outputs": [],
   "source": [
    "# data_preprocessing.ipynb\n",
    "\n",
    "# Import necessary libraries\n",
    "import pandas as pd\n",
    "\n",
    "# Load raw data\n",
    "raw_data_path = '../data/raw/listings.csv'\n",
    "df = pd.read_csv(raw_data_path)\n",
    "\n",
    "# Display the first few rows of the dataframe\n",
    "print(\"Raw Data:\")\n",
    "print(df.head())\n",
    "\n",
    "# Data Cleaning\n",
    "# Remove duplicates\n",
    "df.drop_duplicates(inplace=True)\n",
    "\n",
    "# Handle missing values (for example, dropping rows with missing values)\n",
    "df.dropna(inplace=True)\n",
    "\n",
    "# Formatting (example: converting date strings to datetime objects)\n",
    "# df['date'] = pd.to_datetime(df['date'])\n",
    "\n",
    "# Save the cleaned data\n",
    "cleaned_data_path = '../data/processed/listings_clean.csv'\n",
    "df.to_csv(cleaned_data_path, index=False)\n",
    "\n",
    "print(\"Cleaned Data:\")\n",
    "print(df.head())\n"
   ]
  }
 ],
 "metadata": {
  "language_info": {
   "name": "python"
  }
 },
 "nbformat": 4,
 "nbformat_minor": 2
}
