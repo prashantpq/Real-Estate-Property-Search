{
 "cells": [
  {
   "cell_type": "code",
   "execution_count": 6,
   "metadata": {},
   "outputs": [],
   "source": [
    "# data_preprocessing.ipynb\n",
    "\n",
    "# Import necessary libraries\n",
    "import pandas as pd\n",
    "from sklearn.model_selection import train_test_split\n",
    "from sklearn.feature_extraction.text import TfidfVectorizer\n",
    "from sklearn.preprocessing import StandardScaler\n",
    "\n"
   ]
  },
  {
   "cell_type": "code",
   "execution_count": null,
   "metadata": {},
   "outputs": [],
   "source": [
    "\n",
    "# Load the dataset\n",
    "df = pd.read_csv('../data/raw/property_data1.csv')\n"
   ]
  },
  {
   "cell_type": "code",
   "execution_count": null,
   "metadata": {},
   "outputs": [],
   "source": [
    "\n",
    "# Data Preprocessing\n",
    "df['description'] = df['description'].fillna('')  # Handling missing descriptions\n",
    "df['location'] = df['location'].fillna('')  # Handling missing locations\n",
    "\n",
    "# Vectorize the text features (description and location)\n",
    "tfidf_vectorizer = TfidfVectorizer(max_features=1000)\n",
    "X_desc = tfidf_vectorizer.fit_transform(df['description']).toarray()\n",
    "X_loc = tfidf_vectorizer.fit_transform(df['location']).toarray()\n",
    "\n",
    "# Combine text features\n",
    "X_text = pd.concat([pd.DataFrame(X_desc), pd.DataFrame(X_loc)], axis=1)\n",
    "\n",
    "# Process the price data\n",
    "scaler = StandardScaler()\n",
    "X_price = scaler.fit_transform(df[['price']])\n",
    "\n",
    "# Combine all features\n",
    "X = pd.concat([X_text, pd.DataFrame(X_price)], axis=1)\n",
    "\n",
    "# Target variable\n",
    "y = df['price']\n",
    "\n",
    "# Train-test split\n",
    "X_train, X_test, y_train, y_test = train_test_split(X, y, test_size=0.2, random_state=42)\n",
    "\n",
    "# Save preprocessed data\n",
    "X_train.to_csv('../data/processed/X_train.csv', index=False)\n",
    "X_test.to_csv('../data/processed/X_test.csv', index=False)\n",
    "y_train.to_csv('../data/processed/y_train.csv', index=False)\n",
    "y_test.to_csv('../data/processed/y_test.csv', index=False)"
   ]
  }
 ],
 "metadata": {
  "kernelspec": {
   "display_name": "myenv",
   "language": "python",
   "name": "python3"
  },
  "language_info": {
   "codemirror_mode": {
    "name": "ipython",
    "version": 3
   },
   "file_extension": ".py",
   "mimetype": "text/x-python",
   "name": "python",
   "nbconvert_exporter": "python",
   "pygments_lexer": "ipython3",
   "version": "3.11.5"
  }
 },
 "nbformat": 4,
 "nbformat_minor": 2
}
