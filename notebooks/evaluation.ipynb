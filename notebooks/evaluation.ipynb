{
 "cells": [
  {
   "cell_type": "code",
   "execution_count": null,
   "metadata": {},
   "outputs": [],
   "source": [
    "# evaluation.ipynb\n",
    "\n",
    "# Import necessary libraries\n",
    "import pandas as pd\n",
    "from sklearn.metrics import mean_squared_error, r2_score\n",
    "import joblib\n",
    "\n",
    "# Load test data\n",
    "data_path = '../data/processed/listings_clean.csv'\n",
    "df = pd.read_csv(data_path)\n",
    "\n",
    "# Assume you have a 'test' set loaded for evaluation\n",
    "# Example of loading a model\n",
    "model = joblib.load('../models/multimodal_model.h5')\n",
    "\n",
    "# Prepare the test data\n",
    "X_test = df[['feature1', 'feature2', 'feature3']]  # replace with actual feature names\n",
    "y_test = df['target']  # replace with the actual target variable name\n",
    "\n",
    "# Make predictions\n",
    "predictions = model.predict(X_test)\n",
    "\n",
    "# Evaluate the model\n",
    "mse = mean_squared_error(y_test, predictions)\n",
    "r2 = r2_score(y_test, predictions)\n",
    "\n",
    "print(f\"Mean Squared Error: {mse}\")\n",
    "print(f\"R² Score: {r2}\")\n",
    "\n",
    "# Save the predictions to a CSV file\n",
    "results_df = pd.DataFrame({'Actual': y_test, 'Predicted': predictions})\n",
    "results_df.to_csv('../results/predictions.csv', index=False)\n"
   ]
  }
 ],
 "metadata": {
  "language_info": {
   "name": "python"
  }
 },
 "nbformat": 4,
 "nbformat_minor": 2
}
